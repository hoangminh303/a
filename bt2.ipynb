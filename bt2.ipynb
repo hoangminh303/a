{
  "nbformat": 4,
  "nbformat_minor": 0,
  "metadata": {
    "colab": {
      "name": "bt2.ipynb",
      "provenance": [],
      "collapsed_sections": [],
      "authorship_tag": "ABX9TyN26LdfYBZ5F3FM1tSKP3b/",
      "include_colab_link": true
    },
    "kernelspec": {
      "name": "python3",
      "display_name": "Python 3"
    }
  },
  "cells": [
    {
      "cell_type": "markdown",
      "metadata": {
        "id": "view-in-github",
        "colab_type": "text"
      },
      "source": [
        "<a href=\"https://colab.research.google.com/github/hoangminh303/a/blob/main/bt2.ipynb\" target=\"_parent\"><img src=\"https://colab.research.google.com/assets/colab-badge.svg\" alt=\"Open In Colab\"/></a>"
      ]
    },
    {
      "cell_type": "markdown",
      "metadata": {
        "id": "xonk7Xc-CjmK"
      },
      "source": [
        "Bài 1\n"
      ]
    },
    {
      "cell_type": "code",
      "metadata": {
        "id": "oc2nITNrD_be",
        "outputId": "ced0d74d-5a24-4d48-9e09-721c81ed4ee8",
        "colab": {
          "base_uri": "https://localhost:8080/"
        }
      },
      "source": [
        "a = int(input(\"a = \"))\n",
        "b = int(input(\"b = \"))\n",
        "print(\"a + b = \",a + b)\n",
        "print(\"a - b = \",a - b)\n",
        "while b==0:\n",
        "  b= int(input(\"Khong chia duoc cho so 0. Nhap lai b: \"))\n",
        "print(\"phan du : \",a % b)\n",
        "print(\"phan nguyen = \",a // b)"
      ],
      "execution_count": 1,
      "outputs": [
        {
          "output_type": "stream",
          "text": [
            "a = 5\n",
            "b = 0\n",
            "a + b =  5\n",
            "a - b =  5\n",
            "Khong chia duoc cho so 0. Nhap lai b: 0\n",
            "Khong chia duoc cho so 0. Nhap lai b: 3\n",
            "phan du :  2\n",
            "phan nguyen =  1\n"
          ],
          "name": "stdout"
        }
      ]
    },
    {
      "cell_type": "markdown",
      "metadata": {
        "id": "a4nWS2yNCiCZ"
      },
      "source": [
        "Bài 2"
      ]
    },
    {
      "cell_type": "code",
      "metadata": {
        "id": "Q3M8kR5FShEn",
        "outputId": "ec39f1cf-f376-4e9b-d201-129a03d7dd40",
        "colab": {
          "base_uri": "https://localhost:8080/"
        }
      },
      "source": [
        "x = float(input(\"x = \"))\n",
        "y = float(input(\"y = \"))\n",
        "print(\"x + y = \",x + y)\n",
        "print(\"x - y = \",x - y)\n",
        "print(\"x * y = \",x * y)\n",
        "while y==0:\n",
        "  y= float(input(\"Khong chia duoc cho so 0. Nhap lai y: \"))\n",
        "print(\"x / y = \",x / y)"
      ],
      "execution_count": 2,
      "outputs": [
        {
          "output_type": "stream",
          "text": [
            "x = 3.5\n",
            "y = 0.0\n",
            "x + y =  3.5\n",
            "x - y =  3.5\n",
            "x * y =  0.0\n",
            "Khong chia duoc cho so 0. Nhap lai y: 2.2\n",
            "x / y =  1.5909090909090908\n"
          ],
          "name": "stdout"
        }
      ]
    },
    {
      "cell_type": "markdown",
      "metadata": {
        "id": "XpNTFRhJFa4S"
      },
      "source": [
        "Bài 3\n"
      ]
    },
    {
      "cell_type": "code",
      "metadata": {
        "id": "wlMJgfqfFdyf",
        "outputId": "660512bb-51dc-4aa2-f17c-2f01da60edda",
        "colab": {
          "base_uri": "https://localhost:8080/"
        }
      },
      "source": [
        "a = input(\"a=\")\n",
        "a = float(a)\n",
        "import math\n",
        "print(\"trị tuyệt đối là\", abs(x))\n",
        "print(\"phần nguyên\", math.trunc(a))\n",
        "print(\"số thực là\", float(a))\n",
        "b = float(input(\"b = \"))\n",
        "print(\"tính lũy thừa a^b = \",pow(a, b))\n",
        "if a<0:\n",
        "  print(\"Khong can bac hai duoc mot so am\")\n",
        "else:\n",
        "  print(\"căn bậc 2\", math.sqrt(a))"
      ],
      "execution_count": 3,
      "outputs": [
        {
          "output_type": "stream",
          "text": [
            "a=4\n",
            "trị tuyệt đối là 3.5\n",
            "phần nguyên 4\n",
            "số thực là 4.0\n",
            "b = 2\n",
            "tính lũy thừa a^b =  16.0\n",
            "căn bậc 2 2.0\n"
          ],
          "name": "stdout"
        }
      ]
    },
    {
      "cell_type": "markdown",
      "metadata": {
        "id": "Wp_2Av5VOVRl"
      },
      "source": [
        "Bài 4\n"
      ]
    },
    {
      "cell_type": "code",
      "metadata": {
        "id": "zUgxpnDbOXRq",
        "outputId": "088cf319-01ad-4e20-ea55-5cc0d9a5c7d5",
        "colab": {
          "base_uri": "https://localhost:8080/"
        }
      },
      "source": [
        "a= input(\"a=\")\n",
        "b= input(\"b=\")\n",
        "a= float(a)\n",
        "b= float(b)\n",
        "print(\"a>=b:\", a >= b)\n",
        "print(\"a<=b:\", a <= b)\n",
        "print(\"a>b:\", a > b)\n",
        "print(\"a<b:\", a < b)\n",
        "print(\"a!=b:\", a != b)"
      ],
      "execution_count": 4,
      "outputs": [
        {
          "output_type": "stream",
          "text": [
            "a=4.2\n",
            "b=2.3\n",
            "a>=b: True\n",
            "a<=b: False\n",
            "a>b: True\n",
            "a<b: False\n",
            "a!=b: True\n"
          ],
          "name": "stdout"
        }
      ]
    },
    {
      "cell_type": "markdown",
      "metadata": {
        "id": "44aklQ3RUPKa"
      },
      "source": [
        "Bài 5"
      ]
    },
    {
      "cell_type": "code",
      "metadata": {
        "id": "pXXzwcACURfc",
        "outputId": "4f84bbb5-66f1-4083-c6cb-c05c9b1feff4",
        "colab": {
          "base_uri": "https://localhost:8080/"
        }
      },
      "source": [
        "string= input(\"chuoi ki tu: \")\n",
        "print(\"chuoi in hoa: \",string.upper())\n",
        "print(\"chuoi in thuong: \",string.lower())   "
      ],
      "execution_count": 5,
      "outputs": [
        {
          "output_type": "stream",
          "text": [
            "chuoi ki tu: Chuỗi kí tự\n",
            "chuoi in hoa:  CHUỖI KÍ TỰ\n",
            "chuoi in thuong:  chuỗi kí tự\n"
          ],
          "name": "stdout"
        }
      ]
    },
    {
      "cell_type": "markdown",
      "metadata": {
        "id": "3Tism3RuWqfy"
      },
      "source": [
        "Bài 6"
      ]
    },
    {
      "cell_type": "code",
      "metadata": {
        "id": "J2E9zw_4WsRk",
        "outputId": "00770650-2b66-41c3-fa15-3d68a6ec6543",
        "colab": {
          "base_uri": "https://localhost:8080/"
        }
      },
      "source": [
        "Truyện = \"\"\" ngay trên vùng biển phía Nam quần đảo Hoàng Sa, cách bờ biển các tỉnh, thành từ Đà Nẵng đến Bình Định khoảng 360 km về phía Đông \"\"\"\n",
        "print (Truyện)"
      ],
      "execution_count": 6,
      "outputs": [
        {
          "output_type": "stream",
          "text": [
            " ngay trên vùng biển phía Nam quần đảo Hoàng Sa, cách bờ biển các tỉnh, thành từ Đà Nẵng đến Bình Định khoảng 360 km về phía Đông \n"
          ],
          "name": "stdout"
        }
      ]
    }
  ]
}