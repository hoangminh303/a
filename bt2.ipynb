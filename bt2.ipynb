{
  "nbformat": 4,
  "nbformat_minor": 0,
  "metadata": {
    "colab": {
      "name": "bt2.ipynb",
      "provenance": [],
      "collapsed_sections": [],
      "authorship_tag": "ABX9TyOBsocnRJzRttC8TPhhv8DE",
      "include_colab_link": true
    },
    "kernelspec": {
      "name": "python3",
      "display_name": "Python 3"
    }
  },
  "cells": [
    {
      "cell_type": "markdown",
      "metadata": {
        "id": "view-in-github",
        "colab_type": "text"
      },
      "source": [
        "<a href=\"https://colab.research.google.com/github/hoangminh303/a/blob/main/bt2.ipynb\" target=\"_parent\"><img src=\"https://colab.research.google.com/assets/colab-badge.svg\" alt=\"Open In Colab\"/></a>"
      ]
    },
    {
      "cell_type": "markdown",
      "metadata": {
        "id": "xonk7Xc-CjmK"
      },
      "source": [
        "Bài 1\n"
      ]
    },
    {
      "cell_type": "code",
      "metadata": {
        "id": "oc2nITNrD_be",
        "outputId": "c7769cd7-2b29-472c-cc28-181962292f60",
        "colab": {
          "base_uri": "https://localhost:8080/",
          "height": 119
        }
      },
      "source": [
        "a = int(input(\"a = \"))\n",
        "b = int(input(\"b = \"))\n",
        "print(\"a + b = \",a + b)\n",
        "print(\"a - b = \",a - b)\n",
        "print(\"a / b = \",a // b)\n",
        "print(\"phan du : \",a % b)"
      ],
      "execution_count": 2,
      "outputs": [
        {
          "output_type": "stream",
          "text": [
            "a = 5\n",
            "b = 3\n",
            "a + b =  8\n",
            "a - b =  2\n",
            "a / b =  1\n",
            "phan du :  2\n"
          ],
          "name": "stdout"
        }
      ]
    },
    {
      "cell_type": "markdown",
      "metadata": {
        "id": "a4nWS2yNCiCZ"
      },
      "source": [
        "Bài 2"
      ]
    },
    {
      "cell_type": "code",
      "metadata": {
        "id": "Q3M8kR5FShEn",
        "outputId": "adb412aa-f21f-4fc1-a17f-a1d5530e313e",
        "colab": {
          "base_uri": "https://localhost:8080/",
          "height": 119
        }
      },
      "source": [
        "x = float(input(\"x = \"))\n",
        "y = float(input(\"y = \"))\n",
        "print(\"x + y = \",x + y)\n",
        "print(\"x - y = \",x - y)\n",
        "print(\" x * y = \",x * y)\n",
        "print(\"x / y = \",x / y)"
      ],
      "execution_count": 3,
      "outputs": [
        {
          "output_type": "stream",
          "text": [
            "x = 2\n",
            "y = 3\n",
            "x + y =  5.0\n",
            "x - y =  -1.0\n",
            " x * y =  6.0\n",
            "x / y =  0.6666666666666666\n"
          ],
          "name": "stdout"
        }
      ]
    },
    {
      "cell_type": "markdown",
      "metadata": {
        "id": "XpNTFRhJFa4S"
      },
      "source": [
        "Bài 3\n"
      ]
    },
    {
      "cell_type": "code",
      "metadata": {
        "id": "wlMJgfqfFdyf",
        "outputId": "73e8453e-dba7-42b9-b322-4310ea4a08a5",
        "colab": {
          "base_uri": "https://localhost:8080/",
          "height": 136
        }
      },
      "source": [
        "#Your code here\n",
        "\n",
        "a = input(\"a=\")\n",
        "a = float(a)\n",
        "c =(abs(a))\n",
        "import math\n",
        "print(\"trị tuyệt đối là\", c)\n",
        "print(\"phần nguyên\", math.trunc(a))\n",
        "print(\"số thực là\", float(a))\n",
        "print( \"căn bậc 2\", math.sqrt(a))\n",
        "b = float(input(\"b = \"))\n",
        "print(\" tính lũy thừa a^b = \",a**b)"
      ],
      "execution_count": 4,
      "outputs": [
        {
          "output_type": "stream",
          "text": [
            "a=3\n",
            "trị tuyệt đối là 3.0\n",
            "phần nguyên 3\n",
            "số thực là 3.0\n",
            "căn bậc 2 1.7320508075688772\n",
            "b = 3.2\n",
            " tính lũy thừa a^b =  33.63473536961897\n"
          ],
          "name": "stdout"
        }
      ]
    },
    {
      "cell_type": "markdown",
      "metadata": {
        "id": "Wp_2Av5VOVRl"
      },
      "source": [
        "Bài 4\n"
      ]
    },
    {
      "cell_type": "code",
      "metadata": {
        "id": "zUgxpnDbOXRq",
        "outputId": "f92b53aa-3551-4431-89d6-14bca6b4fb5c",
        "colab": {
          "base_uri": "https://localhost:8080/",
          "height": 136
        }
      },
      "source": [
        "a= input(\"a=\")\n",
        "b= input(\"b=\")\n",
        "a= float(a)\n",
        "b= float(b)\n",
        "print(\"a>=b:\", a >= b)\n",
        "print(\"a<=b:\", a <= b)\n",
        "print(\"a>b:\", a > b)\n",
        "print(\"a<b:\", a < b)\n",
        "print(\"a!=b:\", a != b)"
      ],
      "execution_count": 5,
      "outputs": [
        {
          "output_type": "stream",
          "text": [
            "a=4.5\n",
            "b=6\n",
            "a>=b: False\n",
            "a<=b: True\n",
            "a>b: False\n",
            "a<b: True\n",
            "a!=b: True\n"
          ],
          "name": "stdout"
        }
      ]
    },
    {
      "cell_type": "markdown",
      "metadata": {
        "id": "44aklQ3RUPKa"
      },
      "source": [
        "Bài 5"
      ]
    },
    {
      "cell_type": "code",
      "metadata": {
        "id": "pXXzwcACURfc",
        "outputId": "f2b46b10-1746-4945-ad15-c38f51740908",
        "colab": {
          "base_uri": "https://localhost:8080/",
          "height": 68
        }
      },
      "source": [
        "string= input(\"chuoi ki tu: \")\n",
        "print(\"chuoi in hoa: \",string.upper())\n",
        "print(\"chuoi in thuong: \",string.lower())   "
      ],
      "execution_count": 6,
      "outputs": [
        {
          "output_type": "stream",
          "text": [
            "chuoi ki tu: b\n",
            "chuoi in hoa:  B\n",
            "chuoi in thuong:  b\n"
          ],
          "name": "stdout"
        }
      ]
    },
    {
      "cell_type": "markdown",
      "metadata": {
        "id": "3Tism3RuWqfy"
      },
      "source": [
        "Bài 6"
      ]
    },
    {
      "cell_type": "code",
      "metadata": {
        "id": "J2E9zw_4WsRk",
        "outputId": "b3c7140e-714e-492d-a69f-c248dcf94845",
        "colab": {
          "base_uri": "https://localhost:8080/",
          "height": 34
        }
      },
      "source": [
        "Truyện = \"\"\" ngay trên vùng biển phía Nam quần đảo Hoàng Sa, cách bờ biển các tỉnh, thành từ Đà Nẵng đến Bình Định khoảng 360 km về phía Đông \"\"\"\n",
        "print (Truyện)"
      ],
      "execution_count": 7,
      "outputs": [
        {
          "output_type": "stream",
          "text": [
            " ngay trên vùng biển phía Nam quần đảo Hoàng Sa, cách bờ biển các tỉnh, thành từ Đà Nẵng đến Bình Định khoảng 360 km về phía Đông \n"
          ],
          "name": "stdout"
        }
      ]
    }
  ]
}